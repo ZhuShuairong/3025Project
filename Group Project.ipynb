{
 "cells": [
  {
   "cell_type": "code",
   "execution_count": 1,
   "id": "d1c70489",
   "metadata": {},
   "outputs": [],
   "source": [
    "import pandas as pd\n",
    "import numpy as np\n",
    "import matplotlib.pyplot as plt\n",
    "from collections import Counter"
   ]
  },
  {
   "cell_type": "code",
   "execution_count": 2,
   "id": "23739bd7",
   "metadata": {},
   "outputs": [],
   "source": [
    "np.random.seed(3)"
   ]
  },
  {
   "cell_type": "code",
   "execution_count": 3,
   "id": "a17968db",
   "metadata": {},
   "outputs": [
    {
     "name": "stdout",
     "output_type": "stream",
     "text": [
      "[0, 0, 0, 1, 0, 2, 2, 1, 1, 0, 0, 1, 0, 0, 0, 0, 0, 0, 1, 1, 0, 0, 0, 0, 1, 0, 0, 0, 0, 0, 0, 1, 1, 1, 0, 0, 0, 0, 1, 0, 1, 0, 0, 1, 0, 0, 1, 3, 0, 1, 0, 0, 0, 0, 0, 1, 0, 0, 0]\n"
     ]
    }
   ],
   "source": [
    "bukayo = \"buyakosaka.xlsx\"\n",
    "df = pd.read_excel(bukayo)\n",
    "column_data = df.iloc[:, 0].tolist()\n",
    "print(column_data)"
   ]
  },
  {
   "cell_type": "code",
   "execution_count": 4,
   "id": "c28c954c",
   "metadata": {},
   "outputs": [],
   "source": [
    "def calculate_transition_percentages(numbers):\n",
    "    transitions = {}\n",
    "\n",
    "    for i in range(len(numbers) - 1):\n",
    "        current_number = numbers[i]\n",
    "        next_number = numbers[i + 1]\n",
    "\n",
    "        if current_number not in transitions:\n",
    "            transitions[current_number] = {}\n",
    "\n",
    "        if next_number not in transitions[current_number]:\n",
    "            transitions[current_number][next_number] = 0\n",
    "\n",
    "        transitions[current_number][next_number] += 1\n",
    "\n",
    "    percentages = {}\n",
    "\n",
    "    for current_number, next_numbers in transitions.items():\n",
    "        total_transitions = sum(next_numbers.values())\n",
    "        percentages[current_number] = {}\n",
    "\n",
    "        for next_number, count in next_numbers.items():\n",
    "            percentage = (count / total_transitions) * 100\n",
    "            percentages[current_number][next_number] = percentage\n",
    "\n",
    "    return percentages"
   ]
  },
  {
   "cell_type": "code",
   "execution_count": 5,
   "id": "94dc8131",
   "metadata": {},
   "outputs": [
    {
     "name": "stdout",
     "output_type": "stream",
     "text": [
      "{0: {0: 69.23076923076923, 1: 28.205128205128204, 2: 2.564102564102564}, 1: {0: 68.75, 1: 25.0, 3: 6.25}, 2: {2: 50.0, 1: 50.0}, 3: {0: 100.0}}\n"
     ]
    }
   ],
   "source": [
    "transition_percentages = calculate_transition_percentages(column_data)\n",
    "print(transition_percentages)"
   ]
  },
  {
   "cell_type": "code",
   "execution_count": 6,
   "id": "45de4d33",
   "metadata": {},
   "outputs": [],
   "source": [
    "StatesGoalsData = ['None','Once','Twice','Hat-Trick']"
   ]
  },
  {
   "cell_type": "code",
   "execution_count": 20,
   "id": "20a33dde",
   "metadata": {},
   "outputs": [],
   "source": [
    "transition_states = [\n",
    "    ['None-to-None', 'None-to-Once', 'None-to-Twice', 'None-to-Hat-Trick'],\n",
    "    ['Once-to-None', 'Once-to-Once', 'Once-to-Twice', 'Once-to-Hat-Trick'],\n",
    "    ['Twice-to-None', 'Twice-to-Once', 'Twice-to-Twice', 'Twice-to-Hat-Trick'],\n",
    "    ['Hat-Trick-to-None', 'Hat-Trick-to-Once', 'Hat-Trick-to-Twice', 'Hat-Trick-to-Hat-Trick']\n",
    "]\n",
    "transition_matrix = [\n",
    "    [0.6923, 0.2821, 0.02560, 0],\n",
    "    [0.6875, 0.25, 0, 0.0625],\n",
    "    [0, 0.5, 0.5, 0],\n",
    "    [1, 0, 0, 0]\n",
    "]"
   ]
  },
  {
   "cell_type": "code",
   "execution_count": 22,
   "id": "7e598924",
   "metadata": {},
   "outputs": [
    {
     "name": "stdout",
     "output_type": "stream",
     "text": [
      "Recent match result = None\n"
     ]
    }
   ],
   "source": [
    "ScoringProcess = list()\n",
    "NumMatches = 100\n",
    "if column_data[0] == 0:\n",
    "    InitialState = \"None\"\n",
    "elif column_data[0] == 1:\n",
    "    InitialState = \"Once\"\n",
    "elif column_data[0] == 2:\n",
    "    InitialState = \"Twice\"\n",
    "else:\n",
    "    InitialState = \"Hat-Trick\"\n",
    "print('Recent match result =',InitialState)"
   ]
  },
  {
   "cell_type": "code",
   "execution_count": 32,
   "id": "f70e5722",
   "metadata": {},
   "outputs": [
    {
     "name": "stdout",
     "output_type": "stream",
     "text": [
      "None\n",
      "Once\n",
      "Hat-Trick\n",
      "None\n",
      "None\n",
      "Once\n",
      "None\n",
      "None\n",
      "Once\n",
      "None\n",
      "None\n",
      "Once\n",
      "None\n",
      "None\n",
      "None\n",
      "None\n",
      "None\n",
      "Once\n",
      "None\n",
      "Once\n",
      "None\n",
      "Once\n",
      "Once\n",
      "Once\n",
      "None\n",
      "None\n",
      "None\n",
      "Once\n",
      "Once\n",
      "None\n",
      "None\n",
      "Once\n",
      "None\n",
      "None\n",
      "None\n",
      "Once\n",
      "None\n",
      "None\n",
      "None\n",
      "None\n",
      "Once\n",
      "None\n",
      "None\n",
      "None\n",
      "None\n",
      "Once\n",
      "Hat-Trick\n",
      "None\n",
      "None\n",
      "None\n",
      "Twice\n",
      "Once\n",
      "Once\n",
      "None\n",
      "None\n",
      "Once\n",
      "None\n",
      "None\n",
      "None\n",
      "None\n",
      "None\n",
      "None\n",
      "None\n",
      "Once\n",
      "None\n",
      "None\n",
      "None\n",
      "Twice\n",
      "Twice\n",
      "Once\n",
      "None\n",
      "None\n",
      "Once\n",
      "None\n",
      "Once\n",
      "Once\n",
      "Once\n",
      "Once\n",
      "None\n",
      "None\n",
      "Once\n",
      "Hat-Trick\n",
      "None\n",
      "None\n",
      "Once\n",
      "Once\n",
      "Once\n",
      "None\n",
      "Once\n",
      "None\n",
      "None\n",
      "Twice\n",
      "Twice\n",
      "Twice\n",
      "Twice\n",
      "Twice\n",
      "Once\n",
      "None\n",
      "Once\n",
      "None\n"
     ]
    }
   ],
   "source": [
    "for i in range(0, NumMatches):\n",
    "    if InitialState == 'None':\n",
    "        TransCondition = np.random.choice(transition_states[0],replace=True,p=transition_matrix[0])\n",
    "        if TransCondition == 'None-to-None':\n",
    "            pass\n",
    "        elif TransCondition == 'None-to-Once':\n",
    "            InitialState = 'Once'\n",
    "        elif TransCondition == 'None-to-Twice':\n",
    "            InitialState = 'Twice'\n",
    "        else:\n",
    "            InitialState = 'Hat-Trick'\n",
    "    elif InitialState == 'Once':\n",
    "        TransCondition = np.random.choice(transition_states[1],replace=True,p=transition_matrix[1])\n",
    "        if TransCondition == 'Once-to-Once':\n",
    "            pass\n",
    "        elif TransCondition == 'Once-to-None':\n",
    "            InitialState = 'None'\n",
    "        elif TransCondition == 'Once-to-Twice':\n",
    "            InitialState = 'Twice'\n",
    "        else:\n",
    "            InitialState = 'Hat-Trick'\n",
    "    elif InitialState == 'Twice':\n",
    "        TransCondition = np.random.choice(transition_states[2],replace=True,p=transition_matrix[2])\n",
    "        if TransCondition == 'Twice-to-Twice':\n",
    "            pass\n",
    "        elif TransCondition == 'Twice-to-None':\n",
    "            InitialState = 'None'\n",
    "        elif TransCondition == 'Twice-to-Once':\n",
    "            InitialState = 'Once'\n",
    "        else:\n",
    "            InitialState = 'Hat-Trick'\n",
    "    elif InitialState == 'Hat-Trick':\n",
    "        TransCondition = np.random.choice(transition_states[3],replace=True,p=transition_matrix[3])\n",
    "        if TransCondition == 'Hat-Trick-to-Hat-Trick':\n",
    "            pass\n",
    "        elif TransCondition == 'Hat-Trick-to-None':\n",
    "            InitialState = 'None'\n",
    "        elif TransCondition == 'Hat-Trick-to-Once':\n",
    "            InitialState = 'Once'\n",
    "        else:\n",
    "            InitialState = 'Twice'\n",
    "            \n",
    "    ScoringProcess.append(InitialState)\n",
    "    print(InitialState)"
   ]
  },
  {
   "cell_type": "code",
   "execution_count": 33,
   "id": "374c2104",
   "metadata": {},
   "outputs": [
    {
     "data": {
      "image/png": "[encoded data removed]",
      "text/plain": [
       "<Figure size 640x480 with 1 Axes>"
      ]
     },
     "metadata": {},
     "output_type": "display_data"
    }
   ],
   "source": [
    "plt.plot(ScoringProcess)\n",
    "plt.show()"
   ]
  },
  {
   "cell_type": "code",
   "execution_count": null,
   "id": "7cb64935",
   "metadata": {},
   "outputs": [],
   "source": []
  }
 ],
 "metadata": {
  "kernelspec": {
   "display_name": "Python 3 (ipykernel)",
   "language": "python",
   "name": "python3"
  },
  "language_info": {
   "codemirror_mode": {
    "name": "ipython",
    "version": 3
   },
   "file_extension": ".py",
   "mimetype": "text/x-python",
   "name": "python",
   "nbconvert_exporter": "python",
   "pygments_lexer": "ipython3",
   "version": "3.11.5"
  }
 },
 "nbformat": 4,
 "nbformat_minor": 5
}
